{
 "cells": [
  {
   "cell_type": "markdown",
   "metadata": {},
   "source": [
    "# TASK_4\n",
    "\n",
    "create a function to accept 3 paramter and join them\t\t\n",
    "return ouput should be a dictinory \t\t\n",
    "\n",
    "output = { val1: paramter1, val2: parameter2, val3: paramter3, joinText: joined text of 3 paramter  }\t\n",
    "    \n",
    "    \n"
   ]
  },
  {
   "cell_type": "code",
   "execution_count": 1,
   "metadata": {},
   "outputs": [
    {
     "name": "stdout",
     "output_type": "stream",
     "text": [
      "This is a HubnexLabs\n"
     ]
    }
   ],
   "source": [
    "print('This is a HubnexLabs') #using_dictionery\n",
    "\n",
    "def dic_Name(val1,val2,val3):\n",
    "    join_Name = f'{val1}{val2}{val3}'\n",
    "    result = {\n",
    "        'Name1':val1,\n",
    "        'Name2':val2,\n",
    "        'Name3':val3,\n",
    "        'joinName':join_Name\n",
    "    }\n",
    "    return result\n",
    "\n",
    "\n",
    "val1 = \"Hub\"\n",
    "val2 = \"nex\"\n",
    "val3 = \"Labs\"\n",
    "output = dic_Name(val1,val2,val3)\n",
    "\n"
   ]
  },
  {
   "cell_type": "code",
   "execution_count": 2,
   "metadata": {},
   "outputs": [
    {
     "name": "stdout",
     "output_type": "stream",
     "text": [
      "{'Name1': 'Hub', 'Name2': 'nex', 'Name3': 'Labs', 'joinName': 'HubnexLabs'}\n"
     ]
    }
   ],
   "source": [
    "print(output)"
   ]
  },
  {
   "cell_type": "code",
   "execution_count": 3,
   "metadata": {},
   "outputs": [
    {
     "name": "stdout",
     "output_type": "stream",
     "text": [
      "This is a HubnexLabs\n",
      "{'Name1': 'Hub', 'Name2': 'nex', 'Name3': 'Labs', 'joinName': 'HubnexLabs'}\n"
     ]
    }
   ],
   "source": [
    "print(\"This is a HubnexLabs\")\n",
    "print(output)"
   ]
  }
 ],
 "metadata": {
  "kernelspec": {
   "display_name": "base",
   "language": "python",
   "name": "python3"
  },
  "language_info": {
   "codemirror_mode": {
    "name": "ipython",
    "version": 3
   },
   "file_extension": ".py",
   "mimetype": "text/x-python",
   "name": "python",
   "nbconvert_exporter": "python",
   "pygments_lexer": "ipython3",
   "version": "3.11.7"
  }
 },
 "nbformat": 4,
 "nbformat_minor": 2
}

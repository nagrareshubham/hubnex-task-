{
 "cells": [
  {
   "cell_type": "markdown",
   "metadata": {},
   "source": [
    "# ELIF TASK\n"
   ]
  },
  {
   "cell_type": "markdown",
   "metadata": {},
   "source": [
    "#  Join Text"
   ]
  },
  {
   "cell_type": "code",
   "execution_count": 6,
   "metadata": {},
   "outputs": [
    {
     "data": {
      "text/plain": [
       "'Python is high level programming language'"
      ]
     },
     "execution_count": 6,
     "metadata": {},
     "output_type": "execute_result"
    }
   ],
   "source": [
    "words = ['Python','is','high','level','programming','language']\n",
    "joined_string = ' '.join(words)  \n",
    "print(joined_string)\n"
   ]
  },
  {
   "cell_type": "markdown",
   "metadata": {},
   "source": []
  },
  {
   "cell_type": "markdown",
   "metadata": {},
   "source": [
    "# Trim Text"
   ]
  },
  {
   "cell_type": "code",
   "execution_count": 7,
   "metadata": {},
   "outputs": [
    {
     "name": "stdout",
     "output_type": "stream",
     "text": [
      "Original Text: '   python is high level language   '\n",
      "Trimmed Text: 'python is high level language'\n"
     ]
    }
   ],
   "source": [
    "text = \"   python is high level language   \"\n",
    "trimmed_text = text.strip()\n",
    "print(f\"Original Text: '{text}'\")\n",
    "print(f\"Trimmed Text: '{trimmed_text}'\")\n",
    "\n"
   ]
  },
  {
   "cell_type": "markdown",
   "metadata": {},
   "source": [
    "# Substitute Text"
   ]
  },
  {
   "cell_type": "code",
   "execution_count": 8,
   "metadata": {},
   "outputs": [
    {
     "name": "stdout",
     "output_type": "stream",
     "text": [
      "Python is machine language.\n"
     ]
    }
   ],
   "source": [
    "text = \"Python is high-level language.\"\n",
    "substituted_text = text.replace(\"high-level\", \"machine\")\n",
    "print(substituted_text) \n"
   ]
  },
  {
   "cell_type": "markdown",
   "metadata": {},
   "source": [
    "# Cut Text"
   ]
  },
  {
   "cell_type": "code",
   "execution_count": 12,
   "metadata": {},
   "outputs": [
    {
     "name": "stdout",
     "output_type": "stream",
     "text": [
      "Strong \n"
     ]
    }
   ],
   "source": [
    "text = \" Stay Strong \"\n",
    "cut_text = text[6:14]\n",
    "print(cut_text)  \n"
   ]
  },
  {
   "cell_type": "code",
   "execution_count": null,
   "metadata": {},
   "outputs": [],
   "source": []
  },
  {
   "cell_type": "markdown",
   "metadata": {},
   "source": [
    "## ELIF OPERATIONS"
   ]
  },
  {
   "cell_type": "code",
   "execution_count": 13,
   "metadata": {},
   "outputs": [],
   "source": [
    "def text_operations(text, operation, *args):\n",
    "    return text_operations"
   ]
  },
  {
   "cell_type": "code",
   "execution_count": 19,
   "metadata": {},
   "outputs": [],
   "source": [
    "def text_operations(text, operation, *args):\n",
    "    \n",
    "    if operation == 'join':\n",
    "        separator = args[0] if args else ' '\n",
    "        return separator.join(text)\n",
    "    elif operation == 'trim':\n",
    "        return text.strip()\n",
    "    elif operation == 'substitute':\n",
    "        old_sub, new_sub = args\n",
    "        return text.replace(old_sub, new_sub)\n",
    "    elif operation == 'cut':\n",
    "        start, end = args\n",
    "        return text[start:end]\n",
    "    else:\n",
    "        return \"Invalid operation\"\n",
    "    "
   ]
  },
  {
   "cell_type": "code",
   "execution_count": 29,
   "metadata": {},
   "outputs": [
    {
     "name": "stdout",
     "output_type": "stream",
     "text": [
      "Original Text:     Python is high-level language    \n",
      "Joined Text:  - - - -P-y-t-h-o-n- -i-s- -h-i-g-h---l-e-v-e-l- -l-a-n-g-u-a-g-e- - - - \n",
      "Trimmed Text: Python is high-level language\n",
      "Substituted Text:     Python is machine language    \n",
      "Cut Text: Python\n"
     ]
    }
   ],
   "source": [
    "\n",
    "\n",
    "text = \"    Python is high-level language    \"\n",
    "print(\"Original Text:\", text)\n",
    "\n",
    "# Join text\n",
    "joined_text = text_operations(text, 'join', '-')\n",
    "#joined_text = text_operations(text, 'join', ' ')\n",
    "print(\"Joined Text:\", joined_text)\n",
    "\n",
    "# Trim text\n",
    "trimmed_text = text_operations(text, 'trim')\n",
    "print(\"Trimmed Text:\", trimmed_text)\n",
    "\n",
    "# Substitute text\n",
    "substituted_text = text_operations(text, 'substitute', 'high-level', 'machine')\n",
    "print(\"Substituted Text:\", substituted_text)\n",
    "\n",
    "# Cut text\n",
    "cut_text = text_operations(text, 'cut', 4,10)\n",
    "print(\"Cut Text:\", cut_text)\n"
   ]
  }
 ],
 "metadata": {
  "kernelspec": {
   "display_name": "base",
   "language": "python",
   "name": "python3"
  },
  "language_info": {
   "codemirror_mode": {
    "name": "ipython",
    "version": 3
   },
   "file_extension": ".py",
   "mimetype": "text/x-python",
   "name": "python",
   "nbconvert_exporter": "python",
   "pygments_lexer": "ipython3",
   "version": "3.11.7"
  }
 },
 "nbformat": 4,
 "nbformat_minor": 2
}

{
 "cells": [
  {
   "cell_type": "markdown",
   "metadata": {},
   "source": [
    "# while loop\n",
    "\n",
    "* A while loop repeatedly execute a single statement or group of statements as long as the condition is true."
   ]
  },
  {
   "cell_type": "code",
   "execution_count": 5,
   "metadata": {},
   "outputs": [],
   "source": [
    "Mobile_lists = [ \n",
    "\n",
    "        {'Brand':'Apple', 'Model':'Iphone_15', 'Year':2023},\n",
    "        {'Brand':'Samsung', 'Model':'Samsung_S23', 'Year':2022},\n",
    "        {'Brand':'Oneplus', 'Model':'Oneplus_12', 'Year':2024},\n",
    "        {'Brand':'Vivo', 'Model':'Vivo_v21', 'Year':2021},\n",
    "        {'Brand':'Xiaomi', 'Model':'Mi_10', 'Year':2020},\n",
    "\n",
    "\n",
    "]  #Create list of Different mobiles "
   ]
  },
  {
   "cell_type": "code",
   "execution_count": 12,
   "metadata": {},
   "outputs": [
    {
     "name": "stdout",
     "output_type": "stream",
     "text": [
      "Iphone_15 Released In 2023 Year\n",
      "Samsung_S23 Released In 2022 Year\n",
      "Oneplus_12 Released In 2024 Year\n",
      "Vivo_v21 Released In 2021 Year\n",
      "Mi_10 Released In 2020 Year\n"
     ]
    }
   ],
   "source": [
    "#using while loop\n",
    "\n",
    "i = 0\n",
    "while i < len(Mobile_lists):\n",
    "    model = Mobile_lists[i]['Model']\n",
    "    year= Mobile_lists[i]['Year']\n",
    "    print(f'{model} Released In {year} Year')\n",
    "    i = i + 1"
   ]
  },
  {
   "cell_type": "markdown",
   "metadata": {},
   "source": [
    "# for loop\n",
    "* for loop used to iterate over a sequence (such as a list, tuple, dictionary, string, range) and execute a block of code for each item in the sequence."
   ]
  },
  {
   "cell_type": "code",
   "execution_count": 27,
   "metadata": {},
   "outputs": [
    {
     "name": "stdout",
     "output_type": "stream",
     "text": [
      "Apple its most demanding model is Iphone_15\n",
      "Iphone_15 is the highest selling model apart from other variants in 2023\n",
      "Samsung its most demanding model is Samsung_S23\n",
      "Samsung_S23 is the highest selling model apart from other variants in 2022\n",
      "Oneplus its most demanding model is Oneplus_12\n",
      "Oneplus_12 is the highest selling model apart from other variants in 2024\n",
      "Vivo its most demanding model is Vivo_v21\n",
      "Vivo_v21 is the highest selling model apart from other variants in 2021\n",
      "Xiaomi its most demanding model is Mi_10\n",
      "Mi_10 is the highest selling model apart from other variants in 2020\n"
     ]
    }
   ],
   "source": [
    "for values in Mobile_lists:\n",
    "    brand = values['Brand']\n",
    "    model = values['Model']\n",
    "    year = values['Year']\n",
    "\n",
    "    print(f'{brand} its most demanding model is {model}')\n",
    "    \n",
    "    print(f'{model} is the highest selling model apart from other variants in {year}')\n",
    "    "
   ]
  },
  {
   "cell_type": "markdown",
   "metadata": {},
   "source": [
    "# Map Function\n",
    "* The map function allow to apply a function to an iterable object and returns an iterator containing the results. "
   ]
  },
  {
   "cell_type": "code",
   "execution_count": 2,
   "metadata": {},
   "outputs": [],
   "source": [
    "Brand_and_its_Founding_Countries = {\n",
    "        'Apple':'Unitade States',\n",
    "        'Samsung':'South Koria',\n",
    "        'Oneplus':'China',\n",
    "        'Vivo':'China',\n",
    "        'Xiaomi':'China'\n",
    "    \n",
    "}"
   ]
  },
  {
   "cell_type": "code",
   "execution_count": 3,
   "metadata": {},
   "outputs": [],
   "source": [
    "def add_founding_countries(Founding_Countries):\n",
    "    brand = Founding_Countries['Brand']\n",
    "    if brand in Brand_and_its_Founding_Countries:\n",
    "        Founding_Countries['Founding_Countries'] = Brand_and_its_Founding_Countries[brand]\n",
    "        \n",
    "    return Founding_Countries\n",
    "#adding founding countries"
   ]
  },
  {
   "cell_type": "code",
   "execution_count": 6,
   "metadata": {},
   "outputs": [
    {
     "name": "stdout",
     "output_type": "stream",
     "text": [
      "[{'Brand': 'Apple', 'Model': 'Iphone_15', 'Year': 2023, 'Founding_Countries': 'Unitade States'}, {'Brand': 'Samsung', 'Model': 'Samsung_S23', 'Year': 2022, 'Founding_Countries': 'South Koria'}, {'Brand': 'Oneplus', 'Model': 'Oneplus_12', 'Year': 2024, 'Founding_Countries': 'China'}, {'Brand': 'Vivo', 'Model': 'Vivo_v21', 'Year': 2021, 'Founding_Countries': 'China'}, {'Brand': 'Xiaomi', 'Model': 'Mi_10', 'Year': 2020, 'Founding_Countries': 'China'}]\n"
     ]
    }
   ],
   "source": [
    "Mobile_lists = list(map(add_founding_countries, Mobile_lists))\n",
    "\n",
    "print(Mobile_lists)"
   ]
  },
  {
   "cell_type": "markdown",
   "metadata": {},
   "source": [
    "# Filter and Lambda\n",
    "* Filter -  It returns the items of iterables for the function which is True.\n",
    "* Lambda - Lambda expressions allow to create anonymous functions. It can quickly make temporary functions without properly defining function using def."
   ]
  },
  {
   "cell_type": "code",
   "execution_count": 11,
   "metadata": {},
   "outputs": [
    {
     "name": "stdout",
     "output_type": "stream",
     "text": [
      "[{'Brand': 'Vivo', 'Model': 'Vivo_v21', 'Year': 2021, 'Founding_Countries': 'China'}]\n"
     ]
    }
   ],
   "source": [
    "filtered_list = list(filter(lambda x: x['Brand'] == 'Vivo', Mobile_lists))\n",
    "\n",
    "print(filtered_list)"
   ]
  },
  {
   "cell_type": "code",
   "execution_count": null,
   "metadata": {},
   "outputs": [],
   "source": []
  }
 ],
 "metadata": {
  "kernelspec": {
   "display_name": "base",
   "language": "python",
   "name": "python3"
  },
  "language_info": {
   "codemirror_mode": {
    "name": "ipython",
    "version": 3
   },
   "file_extension": ".py",
   "mimetype": "text/x-python",
   "name": "python",
   "nbconvert_exporter": "python",
   "pygments_lexer": "ipython3",
   "version": "3.11.7"
  }
 },
 "nbformat": 4,
 "nbformat_minor": 2
}

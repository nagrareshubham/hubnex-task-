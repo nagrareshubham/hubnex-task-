{
 "cells": [
  {
   "cell_type": "markdown",
   "metadata": {},
   "source": [
    "## TUPLE_TASK"
   ]
  },
  {
   "cell_type": "markdown",
   "metadata": {},
   "source": [
    "## TUPLE\n",
    "\n",
    "#### A tuple is a built-in data structure in Python that is used to store an ordered collection of elements. Unlike lists, tuples are immutable, meaning that once a tuple is created, its elements cannot be changed, added, or removed. Tuples can contain elements of different types."
   ]
  },
  {
   "cell_type": "code",
   "execution_count": 1,
   "metadata": {},
   "outputs": [],
   "source": [
    "num = (1, 2, 3, 4, 5) \n",
    "\n",
    "fruits = ('Apple','Banana','Carrot')"
   ]
  },
  {
   "cell_type": "code",
   "execution_count": 2,
   "metadata": {},
   "outputs": [
    {
     "name": "stdout",
     "output_type": "stream",
     "text": [
      "(1, 2, 3, 4, 5)\n",
      "('Apple', 'Banana', 'Carrot')\n"
     ]
    }
   ],
   "source": [
    "print(num)\n",
    "print(fruits)"
   ]
  },
  {
   "cell_type": "markdown",
   "metadata": {},
   "source": [
    "## Assigning Elements "
   ]
  },
  {
   "cell_type": "markdown",
   "metadata": {},
   "source": [
    "#### You can access individual elements in a tuple by their index. Python uses zero-based indexing, so the first element is at index 0."
   ]
  },
  {
   "cell_type": "code",
   "execution_count": 5,
   "metadata": {},
   "outputs": [
    {
     "name": "stdout",
     "output_type": "stream",
     "text": [
      "4\n",
      "Carrot\n"
     ]
    }
   ],
   "source": [
    "print(num[3])\n",
    "print(fruits[2])4\n"
   ]
  },
  {
   "cell_type": "markdown",
   "metadata": {},
   "source": [
    "## Methods\n",
    "\n",
    "## COUNT()"
   ]
  },
  {
   "cell_type": "code",
   "execution_count": 7,
   "metadata": {},
   "outputs": [
    {
     "name": "stdout",
     "output_type": "stream",
     "text": [
      "1\n",
      "1\n"
     ]
    }
   ],
   "source": [
    "print(num.count(1))\n",
    "print(fruits.count('Apple'))"
   ]
  },
  {
   "cell_type": "markdown",
   "metadata": {},
   "source": [
    "## index()\n",
    "\n",
    "#### Returns the index of the first occurrence of a specified value. If the value is not found, it raises a ValueError."
   ]
  },
  {
   "cell_type": "code",
   "execution_count": 12,
   "metadata": {},
   "outputs": [
    {
     "name": "stdout",
     "output_type": "stream",
     "text": [
      "4\n",
      "1\n"
     ]
    }
   ],
   "source": [
    "print(num.index(5))\n",
    "print(fruits.index('Banana'))"
   ]
  },
  {
   "cell_type": "markdown",
   "metadata": {},
   "source": [
    "## Common Operations\n",
    "## Length of a Tuple\n",
    "#### Use the len() function to get the number of elements in a tuple."
   ]
  },
  {
   "cell_type": "code",
   "execution_count": 14,
   "metadata": {},
   "outputs": [
    {
     "name": "stdout",
     "output_type": "stream",
     "text": [
      "5\n",
      "3\n"
     ]
    }
   ],
   "source": [
    "print(len(num))\n",
    "print(len(fruits))"
   ]
  },
  {
   "cell_type": "markdown",
   "metadata": {},
   "source": [
    "## Concatenation\n",
    "#### You can concatenate two or more tuples using the + operator."
   ]
  },
  {
   "cell_type": "code",
   "execution_count": 15,
   "metadata": {},
   "outputs": [
    {
     "name": "stdout",
     "output_type": "stream",
     "text": [
      "(1, 2, 3, 4, 5, 6, 'orange', 'mango')\n"
     ]
    }
   ],
   "source": [
    "tuple_1 = (1, 2, 3)\n",
    "tuple_2 = (4, 5, 6)\n",
    "tuple_3 = ('orange','mango')\n",
    "combined_tuple = tuple_1 + tuple_2 + tuple_3\n",
    "print(combined_tuple)  \n"
   ]
  },
  {
   "cell_type": "markdown",
   "metadata": {},
   "source": [
    "## Repetition\n",
    "#### You can repeat the elements in a tuple using the * operator."
   ]
  },
  {
   "cell_type": "code",
   "execution_count": 16,
   "metadata": {},
   "outputs": [
    {
     "name": "stdout",
     "output_type": "stream",
     "text": [
      "(1, 2, 3, 1, 2, 3, 1, 2, 3)\n"
     ]
    }
   ],
   "source": [
    "tuple_1 = (1, 2, 3)\n",
    "repeated_tuple = tuple_1 * 3\n",
    "print(repeated_tuple)  \n"
   ]
  },
  {
   "cell_type": "markdown",
   "metadata": {},
   "source": [
    "## Membership\n",
    "#### You can check if an element exists in a tuple using the in operator."
   ]
  },
  {
   "cell_type": "code",
   "execution_count": 17,
   "metadata": {},
   "outputs": [
    {
     "name": "stdout",
     "output_type": "stream",
     "text": [
      "True\n",
      "False\n"
     ]
    }
   ],
   "source": [
    "num = (1, 2, 3, 4, 5)\n",
    "print(3 in num)   \n",
    "print(6 in num)   \n"
   ]
  },
  {
   "cell_type": "markdown",
   "metadata": {},
   "source": [
    "## Slicing\n",
    "#### You can access a range of elements by slicing the tuple. Slicing is done using the colon : operator."
   ]
  },
  {
   "cell_type": "code",
   "execution_count": 19,
   "metadata": {},
   "outputs": [
    {
     "name": "stdout",
     "output_type": "stream",
     "text": [
      "(3, 4, 5, 6)\n",
      "(1, 2, 3, 4)\n",
      "(6, 7, 8)\n",
      "(1, 3, 5, 7)\n",
      "('a', 'b', 'c')\n",
      "('c', 'd', 'e', 'f')\n"
     ]
    }
   ],
   "source": [
    "tuple_slicing = (1, 2, 3, 4, 5, 6, 7, 8)\n",
    "\n",
    "tuple_slicing_2 = ('a','b','c','d','e','f','g')\n",
    "\n",
    "\n",
    "print(tuple_slicing[2:6])  \n",
    "\n",
    "\n",
    "print(tuple_slicing[:4])\n",
    "\n",
    "\n",
    "print(tuple_slicing[5:])  \n",
    "\n",
    "\n",
    "print(tuple_slicing[::2])  \n",
    "\n",
    "print(tuple_slicing_2[:3])\n",
    "\n",
    "print(tuple_slicing_2[2:6])\n",
    "\n",
    "\n"
   ]
  },
  {
   "cell_type": "markdown",
   "metadata": {},
   "source": [
    "## Unpacking\n",
    "#### You can unpack a tuple into individual variables."
   ]
  },
  {
   "cell_type": "code",
   "execution_count": 21,
   "metadata": {},
   "outputs": [
    {
     "name": "stdout",
     "output_type": "stream",
     "text": [
      "1\n",
      "orange\n",
      "14.56\n"
     ]
    }
   ],
   "source": [
    "unpacking_tuple = (1, 'orange', 14.56)\n",
    "a, b, c = unpacking_tuple\n",
    "print(a)  \n",
    "print(b)  \n",
    "print(c)  \n"
   ]
  },
  {
   "cell_type": "markdown",
   "metadata": {},
   "source": [
    "## Nested Tuples\n",
    "#### Tuples can contain other tuples as elements, allowing for nested structures."
   ]
  },
  {
   "cell_type": "code",
   "execution_count": 24,
   "metadata": {},
   "outputs": [
    {
     "name": "stdout",
     "output_type": "stream",
     "text": [
      "(2, 3)\n",
      "(4, 5, 6)\n"
     ]
    }
   ],
   "source": [
    "nested_tuple = (1, (2, 3), (4, 5, 6))\n",
    "print(nested_tuple[1])  \n",
    "print(nested_tuple[2])  \n"
   ]
  }
 ],
 "metadata": {
  "kernelspec": {
   "display_name": "Python 3 (ipykernel)",
   "language": "python",
   "name": "python3"
  },
  "language_info": {
   "codemirror_mode": {
    "name": "ipython",
    "version": 3
   },
   "file_extension": ".py",
   "mimetype": "text/x-python",
   "name": "python",
   "nbconvert_exporter": "python",
   "pygments_lexer": "ipython3",
   "version": "3.11.9"
  }
 },
 "nbformat": 4,
 "nbformat_minor": 4
}
